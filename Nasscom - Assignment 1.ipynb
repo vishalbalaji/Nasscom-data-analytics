{
 "cells": [
  {
   "cell_type": "markdown",
   "metadata": {},
   "source": [
    "# ASSIGNMENT 1"
   ]
  },
  {
   "cell_type": "markdown",
   "metadata": {},
   "source": [
    "## Reading in the dataset"
   ]
  },
  {
   "cell_type": "code",
   "execution_count": 9,
   "metadata": {},
   "outputs": [
    {
     "data": {
      "text/html": [
       "<table>\n",
       "<thead><tr><th scope=col>Instructor</th><th scope=col>Grade</th><th scope=col>Words.per.minute</th><th scope=col>Proofreading</th><th scope=col>Spreadsheet</th><th scope=col>Statistics</th></tr></thead>\n",
       "<tbody>\n",
       "\t<tr><td>Dr. Katz</td><td>6       </td><td>35      </td><td>53      </td><td>75      </td><td>61      </td></tr>\n",
       "\t<tr><td>Dr. Katz</td><td>6       </td><td>50      </td><td>77      </td><td>24      </td><td>51      </td></tr>\n",
       "\t<tr><td>Dr. Katz</td><td>6       </td><td>55      </td><td>71      </td><td>62      </td><td>55      </td></tr>\n",
       "\t<tr><td>Dr. Katz</td><td>6       </td><td>60      </td><td>78      </td><td>27      </td><td>91      </td></tr>\n",
       "\t<tr><td>Dr. Katz</td><td>6       </td><td>65      </td><td>84      </td><td>44      </td><td>95      </td></tr>\n",
       "\t<tr><td>Dr. Katz</td><td>6       </td><td>60      </td><td>79      </td><td>38      </td><td>50      </td></tr>\n",
       "\t<tr><td>Dr. Katz</td><td>6       </td><td>70      </td><td>96      </td><td>12      </td><td>94      </td></tr>\n",
       "\t<tr><td>Dr. Katz</td><td>6       </td><td>55      </td><td>61      </td><td>55      </td><td>76      </td></tr>\n",
       "\t<tr><td>Dr. Katz</td><td>6       </td><td>45      </td><td>73      </td><td>59      </td><td>75      </td></tr>\n",
       "\t<tr><td>Dr. Katz</td><td>6       </td><td>55      </td><td>75      </td><td>55      </td><td>80      </td></tr>\n",
       "\t<tr><td>Dr. Katz</td><td>6       </td><td>60      </td><td>85      </td><td>35      </td><td>84      </td></tr>\n",
       "\t<tr><td>Dr. Katz</td><td>6       </td><td>45      </td><td>61      </td><td>49      </td><td>80      </td></tr>\n",
       "\t<tr><td>Laura   </td><td>7       </td><td>55      </td><td>59      </td><td>79      </td><td>57      </td></tr>\n",
       "\t<tr><td>Laura   </td><td>7       </td><td>60      </td><td>60      </td><td>60      </td><td>60      </td></tr>\n",
       "\t<tr><td>Laura   </td><td>7       </td><td>75      </td><td>90      </td><td>19      </td><td>64      </td></tr>\n",
       "</tbody>\n",
       "</table>\n"
      ],
      "text/latex": [
       "\\begin{tabular}{r|llllll}\n",
       " Instructor & Grade & Words.per.minute & Proofreading & Spreadsheet & Statistics\\\\\n",
       "\\hline\n",
       "\t Dr. Katz & 6        & 35       & 53       & 75       & 61      \\\\\n",
       "\t Dr. Katz & 6        & 50       & 77       & 24       & 51      \\\\\n",
       "\t Dr. Katz & 6        & 55       & 71       & 62       & 55      \\\\\n",
       "\t Dr. Katz & 6        & 60       & 78       & 27       & 91      \\\\\n",
       "\t Dr. Katz & 6        & 65       & 84       & 44       & 95      \\\\\n",
       "\t Dr. Katz & 6        & 60       & 79       & 38       & 50      \\\\\n",
       "\t Dr. Katz & 6        & 70       & 96       & 12       & 94      \\\\\n",
       "\t Dr. Katz & 6        & 55       & 61       & 55       & 76      \\\\\n",
       "\t Dr. Katz & 6        & 45       & 73       & 59       & 75      \\\\\n",
       "\t Dr. Katz & 6        & 55       & 75       & 55       & 80      \\\\\n",
       "\t Dr. Katz & 6        & 60       & 85       & 35       & 84      \\\\\n",
       "\t Dr. Katz & 6        & 45       & 61       & 49       & 80      \\\\\n",
       "\t Laura    & 7        & 55       & 59       & 79       & 57      \\\\\n",
       "\t Laura    & 7        & 60       & 60       & 60       & 60      \\\\\n",
       "\t Laura    & 7        & 75       & 90       & 19       & 64      \\\\\n",
       "\\end{tabular}\n"
      ],
      "text/markdown": [
       "\n",
       "| Instructor | Grade | Words.per.minute | Proofreading | Spreadsheet | Statistics |\n",
       "|---|---|---|---|---|---|\n",
       "| Dr. Katz | 6        | 35       | 53       | 75       | 61       |\n",
       "| Dr. Katz | 6        | 50       | 77       | 24       | 51       |\n",
       "| Dr. Katz | 6        | 55       | 71       | 62       | 55       |\n",
       "| Dr. Katz | 6        | 60       | 78       | 27       | 91       |\n",
       "| Dr. Katz | 6        | 65       | 84       | 44       | 95       |\n",
       "| Dr. Katz | 6        | 60       | 79       | 38       | 50       |\n",
       "| Dr. Katz | 6        | 70       | 96       | 12       | 94       |\n",
       "| Dr. Katz | 6        | 55       | 61       | 55       | 76       |\n",
       "| Dr. Katz | 6        | 45       | 73       | 59       | 75       |\n",
       "| Dr. Katz | 6        | 55       | 75       | 55       | 80       |\n",
       "| Dr. Katz | 6        | 60       | 85       | 35       | 84       |\n",
       "| Dr. Katz | 6        | 45       | 61       | 49       | 80       |\n",
       "| Laura    | 7        | 55       | 59       | 79       | 57       |\n",
       "| Laura    | 7        | 60       | 60       | 60       | 60       |\n",
       "| Laura    | 7        | 75       | 90       | 19       | 64       |\n",
       "\n"
      ],
      "text/plain": [
       "   Instructor Grade Words.per.minute Proofreading Spreadsheet Statistics\n",
       "1  Dr. Katz   6     35               53           75          61        \n",
       "2  Dr. Katz   6     50               77           24          51        \n",
       "3  Dr. Katz   6     55               71           62          55        \n",
       "4  Dr. Katz   6     60               78           27          91        \n",
       "5  Dr. Katz   6     65               84           44          95        \n",
       "6  Dr. Katz   6     60               79           38          50        \n",
       "7  Dr. Katz   6     70               96           12          94        \n",
       "8  Dr. Katz   6     55               61           55          76        \n",
       "9  Dr. Katz   6     45               73           59          75        \n",
       "10 Dr. Katz   6     55               75           55          80        \n",
       "11 Dr. Katz   6     60               85           35          84        \n",
       "12 Dr. Katz   6     45               61           49          80        \n",
       "13 Laura      7     55               59           79          57        \n",
       "14 Laura      7     60               60           60          60        \n",
       "15 Laura      7     75               90           19          64        "
      ]
     },
     "metadata": {},
     "output_type": "display_data"
    }
   ],
   "source": [
    "f <- read.csv('assignment.csv')\n",
    "head(f, 15)"
   ]
  },
  {
   "cell_type": "markdown",
   "metadata": {},
   "source": [
    "## Correlation using Pearson's Correlation\n",
    "\n",
    "Below is the correlation table generated for the attributes of the given data using Pearson's correlation. As we can see, the maximum correlation in this data is between the variables **Words.per.minute** and **Proofreading** with a value of ***0.71***\n",
    "\n",
    "**Statistics** and **Grade** are two variables with positive correlation, whereas the variables **Spreadsheet** and **Grade** have a negative correlation "
   ]
  },
  {
   "cell_type": "code",
   "execution_count": 73,
   "metadata": {},
   "outputs": [
    {
     "data": {
      "text/html": [
       "<table>\n",
       "<thead><tr><th></th><th scope=col>Grade</th><th scope=col>Words.per.minute</th><th scope=col>Proofreading</th><th scope=col>Spreadsheet</th><th scope=col>Statistics</th></tr></thead>\n",
       "<tbody>\n",
       "\t<tr><th scope=row>Grade</th><td> 1.00000000</td><td> 0.33197722</td><td> 0.05455987</td><td>-0.0528161 </td><td> 0.06500347</td></tr>\n",
       "\t<tr><th scope=row>Words.per.minute</th><td> 0.33197722</td><td> 1.00000000</td><td> 0.71705844</td><td>-0.6128279 </td><td>-0.07822959</td></tr>\n",
       "\t<tr><th scope=row>Proofreading</th><td> 0.05455987</td><td> 0.71705844</td><td> 1.00000000</td><td>-0.7932430 </td><td>-0.12590040</td></tr>\n",
       "\t<tr><th scope=row>Spreadsheet</th><td>-0.05281610</td><td>-0.61282789</td><td>-0.79324297</td><td> 1.0000000 </td><td> 0.12052698</td></tr>\n",
       "\t<tr><th scope=row>Statistics</th><td> 0.06500347</td><td>-0.07822959</td><td>-0.12590040</td><td> 0.1205270 </td><td> 1.00000000</td></tr>\n",
       "</tbody>\n",
       "</table>\n"
      ],
      "text/latex": [
       "\\begin{tabular}{r|lllll}\n",
       "  & Grade & Words.per.minute & Proofreading & Spreadsheet & Statistics\\\\\n",
       "\\hline\n",
       "\tGrade &  1.00000000 &  0.33197722 &  0.05455987 & -0.0528161  &  0.06500347\\\\\n",
       "\tWords.per.minute &  0.33197722 &  1.00000000 &  0.71705844 & -0.6128279  & -0.07822959\\\\\n",
       "\tProofreading &  0.05455987 &  0.71705844 &  1.00000000 & -0.7932430  & -0.12590040\\\\\n",
       "\tSpreadsheet & -0.05281610 & -0.61282789 & -0.79324297 &  1.0000000  &  0.12052698\\\\\n",
       "\tStatistics &  0.06500347 & -0.07822959 & -0.12590040 &  0.1205270  &  1.00000000\\\\\n",
       "\\end{tabular}\n"
      ],
      "text/markdown": [
       "\n",
       "| <!--/--> | Grade | Words.per.minute | Proofreading | Spreadsheet | Statistics |\n",
       "|---|---|---|---|---|---|\n",
       "| Grade |  1.00000000 |  0.33197722 |  0.05455987 | -0.0528161  |  0.06500347 |\n",
       "| Words.per.minute |  0.33197722 |  1.00000000 |  0.71705844 | -0.6128279  | -0.07822959 |\n",
       "| Proofreading |  0.05455987 |  0.71705844 |  1.00000000 | -0.7932430  | -0.12590040 |\n",
       "| Spreadsheet | -0.05281610 | -0.61282789 | -0.79324297 |  1.0000000  |  0.12052698 |\n",
       "| Statistics |  0.06500347 | -0.07822959 | -0.12590040 |  0.1205270  |  1.00000000 |\n",
       "\n"
      ],
      "text/plain": [
       "                 Grade       Words.per.minute Proofreading Spreadsheet\n",
       "Grade             1.00000000  0.33197722       0.05455987  -0.0528161 \n",
       "Words.per.minute  0.33197722  1.00000000       0.71705844  -0.6128279 \n",
       "Proofreading      0.05455987  0.71705844       1.00000000  -0.7932430 \n",
       "Spreadsheet      -0.05281610 -0.61282789      -0.79324297   1.0000000 \n",
       "Statistics        0.06500347 -0.07822959      -0.12590040   0.1205270 \n",
       "                 Statistics \n",
       "Grade             0.06500347\n",
       "Words.per.minute -0.07822959\n",
       "Proofreading     -0.12590040\n",
       "Spreadsheet       0.12052698\n",
       "Statistics        1.00000000"
      ]
     },
     "metadata": {},
     "output_type": "display_data"
    },
    {
     "data": {
      "text/html": [
       "<span style=white-space:pre-wrap>'Max correlation:  0.717058440864125'</span>"
      ],
      "text/latex": [
       "'Max correlation:  0.717058440864125'"
      ],
      "text/markdown": [
       "<span style=white-space:pre-wrap>'Max correlation:  0.717058440864125'</span>"
      ],
      "text/plain": [
       "[1] \"Max correlation:  0.717058440864125\""
      ]
     },
     "metadata": {},
     "output_type": "display_data"
    }
   ],
   "source": [
    "correlation <- cor(f[,2:length(f)], method=\"pearson\")\n",
    "correlation\n",
    "maxcor <- max(correlation[correlation!=max(correlation)])\n",
    "paste(\"Max correlation: \", maxcor)"
   ]
  },
  {
   "cell_type": "markdown",
   "metadata": {},
   "source": [
    "## Considering the correlation between *Spreadsheet* and *Proofreading*\n",
    "\n",
    "**r** coefficient from Pearson's correlation: -0.79<br>\n",
    "**tau** from Kendall's rank correlation: -0.57<br>\n",
    "**rho** from Spearman rank-order correlation: -0.75"
   ]
  },
  {
   "cell_type": "code",
   "execution_count": 76,
   "metadata": {
    "scrolled": true
   },
   "outputs": [
    {
     "data": {
      "text/plain": [
       "\n",
       "\tPearson's product-moment correlation\n",
       "\n",
       "data:  f$Spreadsheet and f$Proofreading\n",
       "t = -7.5962, df = 34, p-value = 7.97e-09\n",
       "alternative hypothesis: true correlation is not equal to 0\n",
       "95 percent confidence interval:\n",
       " -0.8898707 -0.6284997\n",
       "sample estimates:\n",
       "      cor \n",
       "-0.793243 \n"
      ]
     },
     "metadata": {},
     "output_type": "display_data"
    },
    {
     "name": "stderr",
     "output_type": "stream",
     "text": [
      "Warning message in cor.test.default(x = c(75, 24, 62, 27, 44, 38, 12, 55, 59, 55, :\n",
      "“Cannot compute exact p-value with ties”"
     ]
    },
    {
     "data": {
      "text/plain": [
       "\n",
       "\tKendall's rank correlation tau\n",
       "\n",
       "data:  f$Spreadsheet and f$Proofreading\n",
       "z = -4.888, p-value = 1.019e-06\n",
       "alternative hypothesis: true tau is not equal to 0\n",
       "sample estimates:\n",
       "       tau \n",
       "-0.5792888 \n"
      ]
     },
     "metadata": {},
     "output_type": "display_data"
    },
    {
     "name": "stderr",
     "output_type": "stream",
     "text": [
      "Warning message in cor.test.default(x = c(75, 24, 62, 27, 44, 38, 12, 55, 59, 55, :\n",
      "“Cannot compute exact p-value with ties”"
     ]
    },
    {
     "data": {
      "text/plain": [
       "\n",
       "\tSpearman's rank correlation rho\n",
       "\n",
       "data:  f$Spreadsheet and f$Proofreading\n",
       "S = 13634, p-value = 1.057e-07\n",
       "alternative hypothesis: true rho is not equal to 0\n",
       "sample estimates:\n",
       "       rho \n",
       "-0.7546574 \n"
      ]
     },
     "metadata": {},
     "output_type": "display_data"
    }
   ],
   "source": [
    "cor.test(~f$Spreadsheet + ~f$Proofreading, method=\"pearson\")\n",
    "cor.test(~f$Spreadsheet + ~f$Proofreading, method=\"kendall\")\n",
    "cor.test(~f$Spreadsheet + ~f$Proofreading, method=\"spearman\")"
   ]
  },
  {
   "cell_type": "markdown",
   "metadata": {},
   "source": [
    "## Linear regression between *Proofreading* and *Words.per.minute*\n",
    "\n",
    "### *p* value and *r<sup>2</sup>* value\n",
    "From the summary of the linear regression performed below, we can infer the following:\n",
    "\n",
    "**p** value: 8.647 x 10<sup>-7</sup><br>\n",
    "**r<sup>2</sup>** value: 0.5142\n"
   ]
  },
  {
   "cell_type": "code",
   "execution_count": 127,
   "metadata": {},
   "outputs": [
    {
     "data": {
      "text/plain": [
       "\n",
       "Call:\n",
       "lm(formula = Proofreading ~ Words.per.minute, data = f)\n",
       "\n",
       "Residuals:\n",
       "     Min       1Q   Median       3Q      Max \n",
       "-16.4164  -6.2000   0.2992   6.4264  12.4600 \n",
       "\n",
       "Coefficients:\n",
       "                 Estimate Std. Error t value Pr(>|t|)    \n",
       "(Intercept)       17.9003    10.0360   1.784   0.0834 .  \n",
       "Words.per.minute   0.9753     0.1626   5.999 8.65e-07 ***\n",
       "---\n",
       "Signif. codes:  0 ‘***’ 0.001 ‘**’ 0.01 ‘*’ 0.05 ‘.’ 0.1 ‘ ’ 1\n",
       "\n",
       "Residual standard error: 8.497 on 34 degrees of freedom\n",
       "Multiple R-squared:  0.5142,\tAdjusted R-squared:  0.4999 \n",
       "F-statistic: 35.98 on 1 and 34 DF,  p-value: 8.647e-07\n"
      ]
     },
     "metadata": {},
     "output_type": "display_data"
    }
   ],
   "source": [
    "linear_regression <- lm(Proofreading ~ Words.per.minute, data=f)\n",
    "modelSummary <- summary(linear_regression)\n",
    "modelSummary"
   ]
  },
  {
   "cell_type": "code",
   "execution_count": 131,
   "metadata": {},
   "outputs": [
    {
     "data": {
      "image/png": "[encoded data removed]",
      "text/plain": [
       "Plot with title “Proofreading plotted against Words per minute”"
      ]
     },
     "metadata": {},
     "output_type": "display_data"
    }
   ],
   "source": [
    "plot(f$Words.per.minute, f$Proofreading, xlab=\"Words per minute\", ylab=\"Proofreading\", main=\"Proofreading plotted against Words per minute\")\n",
    "abline(17.9003, 0.9753) #Coefficients of intercept and Words.per.minute"
   ]
  },
  {
   "cell_type": "markdown",
   "metadata": {},
   "source": [
    "### Plotting the residuals\n",
    "\n",
    "By plotting the residuals, we can see that the points are scattered across the horizontal axis randomly, rather than in a pattern. This shows that the linear regression model is appropriate for this case"
   ]
  },
  {
   "cell_type": "code",
   "execution_count": 122,
   "metadata": {},
   "outputs": [
    {
     "data": {
      "image/png": "[encoded data removed]",
      "text/plain": [
       "plot without title"
      ]
     },
     "metadata": {},
     "output_type": "display_data"
    }
   ],
   "source": [
    "plot(modelSummary$residuals, ylab=\"Residuals\")\n",
    "abline(0,0)"
   ]
  }
 ],
 "metadata": {
  "kernelspec": {
   "display_name": "R",
   "language": "R",
   "name": "ir"
  },
  "language_info": {
   "codemirror_mode": "r",
   "file_extension": ".r",
   "mimetype": "text/x-r-source",
   "name": "R",
   "pygments_lexer": "r",
   "version": "3.6.1"
  }
 },
 "nbformat": 4,
 "nbformat_minor": 2
}
